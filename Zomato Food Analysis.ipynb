{
 "cells": [
  {
   "cell_type": "code",
   "execution_count": 73,
   "id": "6aa42659",
   "metadata": {},
   "outputs": [],
   "source": [
    "import numpy as np\n",
    "import pandas as pd\n",
    "import matplotlib.pyplot as plt\n",
    "plt.style.use('dark_background')"
   ]
  },
  {
   "cell_type": "code",
   "execution_count": 3,
   "id": "ec691781",
   "metadata": {},
   "outputs": [
    {
     "name": "stdout",
     "output_type": "stream",
     "text": [
      "        Restaurant              Reviewer  \\\n",
      "0  Beyond Flavours     Rusha Chakraborty   \n",
      "1  Beyond Flavours  Anusha Tirumalaneedi   \n",
      "2  Beyond Flavours       Ashok Shekhawat   \n",
      "3  Beyond Flavours        Swapnil Sarkar   \n",
      "4  Beyond Flavours                Dileep   \n",
      "\n",
      "                                              Review Rating  \\\n",
      "0  The ambience was good, food was quite good . h...      5   \n",
      "1  Ambience is too good for a pleasant evening. S...      5   \n",
      "2  A must try.. great food great ambience. Thnx f...      5   \n",
      "3  Soumen das and Arun was a great guy. Only beca...      5   \n",
      "4  Food is good.we ordered Kodi drumsticks and ba...      5   \n",
      "\n",
      "                  Metadata             Time  Pictures  \n",
      "0   1 Review , 2 Followers  5/25/2019 15:54         0  \n",
      "1  3 Reviews , 2 Followers  5/25/2019 14:20         0  \n",
      "2  2 Reviews , 3 Followers  5/24/2019 22:54         0  \n",
      "3    1 Review , 1 Follower  5/24/2019 22:11         0  \n",
      "4  3 Reviews , 2 Followers  5/24/2019 21:37         0  \n"
     ]
    }
   ],
   "source": [
    "df=pd.read_csv(\"reviews.csv\")\n",
    "print(df.head(5))"
   ]
  },
  {
   "cell_type": "code",
   "execution_count": 4,
   "id": "53290785",
   "metadata": {},
   "outputs": [
    {
     "name": "stdout",
     "output_type": "stream",
     "text": [
      "<class 'pandas.core.frame.DataFrame'>\n",
      "RangeIndex: 10000 entries, 0 to 9999\n",
      "Data columns (total 7 columns):\n",
      " #   Column      Non-Null Count  Dtype \n",
      "---  ------      --------------  ----- \n",
      " 0   Restaurant  10000 non-null  object\n",
      " 1   Reviewer    9962 non-null   object\n",
      " 2   Review      9955 non-null   object\n",
      " 3   Rating      9962 non-null   object\n",
      " 4   Metadata    9962 non-null   object\n",
      " 5   Time        9962 non-null   object\n",
      " 6   Pictures    10000 non-null  int64 \n",
      "dtypes: int64(1), object(6)\n",
      "memory usage: 547.0+ KB\n"
     ]
    }
   ],
   "source": [
    "df.info()"
   ]
  },
  {
   "cell_type": "code",
   "execution_count": 5,
   "id": "053b47f6",
   "metadata": {},
   "outputs": [
    {
     "data": {
      "text/plain": [
       "Restaurant    10000\n",
       "Reviewer       9962\n",
       "Review         9955\n",
       "Rating         9962\n",
       "Metadata       9962\n",
       "Time           9962\n",
       "Pictures      10000\n",
       "dtype: int64"
      ]
     },
     "execution_count": 5,
     "metadata": {},
     "output_type": "execute_result"
    }
   ],
   "source": [
    "df.count()"
   ]
  },
  {
   "cell_type": "code",
   "execution_count": 6,
   "id": "9e827376",
   "metadata": {},
   "outputs": [
    {
     "data": {
      "text/plain": [
       "Restaurant    10000\n",
       "Reviewer      10000\n",
       "Review        10000\n",
       "Rating        10000\n",
       "Metadata      10000\n",
       "Time          10000\n",
       "Pictures      10000\n",
       "dtype: int64"
      ]
     },
     "execution_count": 6,
     "metadata": {},
     "output_type": "execute_result"
    }
   ],
   "source": [
    "df.isnull().count()"
   ]
  },
  {
   "cell_type": "code",
   "execution_count": 7,
   "id": "be958498",
   "metadata": {},
   "outputs": [
    {
     "data": {
      "text/plain": [
       "100"
      ]
     },
     "execution_count": 7,
     "metadata": {},
     "output_type": "execute_result"
    }
   ],
   "source": [
    "df.Restaurant.nunique(dropna=True)"
   ]
  },
  {
   "cell_type": "code",
   "execution_count": 8,
   "id": "fb1c38bf",
   "metadata": {},
   "outputs": [
    {
     "data": {
      "text/plain": [
       "7446"
      ]
     },
     "execution_count": 8,
     "metadata": {},
     "output_type": "execute_result"
    }
   ],
   "source": [
    "df.Reviewer.nunique(dropna=True)"
   ]
  },
  {
   "cell_type": "code",
   "execution_count": 9,
   "id": "67759939",
   "metadata": {},
   "outputs": [
    {
     "data": {
      "text/plain": [
       "38"
      ]
     },
     "execution_count": 9,
     "metadata": {},
     "output_type": "execute_result"
    }
   ],
   "source": [
    "df['Rating'].isna().sum()"
   ]
  },
  {
   "cell_type": "code",
   "execution_count": 10,
   "id": "3b94b209",
   "metadata": {},
   "outputs": [],
   "source": [
    "df['Rating']=df['Rating'].fillna(0)"
   ]
  },
  {
   "cell_type": "code",
   "execution_count": 11,
   "id": "031a198e",
   "metadata": {},
   "outputs": [
    {
     "data": {
      "text/plain": [
       "0"
      ]
     },
     "execution_count": 11,
     "metadata": {},
     "output_type": "execute_result"
    }
   ],
   "source": [
    "df['Rating'].isna().sum()"
   ]
  },
  {
   "cell_type": "code",
   "execution_count": 12,
   "id": "11e251bd",
   "metadata": {},
   "outputs": [
    {
     "data": {
      "text/plain": [
       "(10000, 7)"
      ]
     },
     "execution_count": 12,
     "metadata": {},
     "output_type": "execute_result"
    }
   ],
   "source": [
    "df.shape"
   ]
  },
  {
   "cell_type": "code",
   "execution_count": 13,
   "id": "ee56fce9",
   "metadata": {},
   "outputs": [
    {
     "name": "stdout",
     "output_type": "stream",
     "text": [
      "Int64Index([7601], dtype='int64')\n"
     ]
    }
   ],
   "source": [
    "i=df[(df.Rating=='Like')].index\n",
    "print(i)"
   ]
  },
  {
   "cell_type": "code",
   "execution_count": 14,
   "id": "c22df1ed",
   "metadata": {},
   "outputs": [],
   "source": [
    "df=df.drop(7601)"
   ]
  },
  {
   "cell_type": "code",
   "execution_count": 15,
   "id": "40a4c4ce",
   "metadata": {},
   "outputs": [
    {
     "data": {
      "text/plain": [
       "(9999, 7)"
      ]
     },
     "execution_count": 15,
     "metadata": {},
     "output_type": "execute_result"
    }
   ],
   "source": [
    "df.shape"
   ]
  },
  {
   "cell_type": "code",
   "execution_count": 16,
   "id": "d1f7da1f",
   "metadata": {},
   "outputs": [],
   "source": [
    "rating=df.Rating.tolist()"
   ]
  },
  {
   "cell_type": "code",
   "execution_count": 17,
   "id": "58f4e647",
   "metadata": {},
   "outputs": [
    {
     "name": "stdout",
     "output_type": "stream",
     "text": [
      "9999\n"
     ]
    }
   ],
   "source": [
    "print(len(rating))"
   ]
  },
  {
   "cell_type": "code",
   "execution_count": 18,
   "id": "f83e852c",
   "metadata": {},
   "outputs": [],
   "source": [
    "for i in range(0,len(rating)):\n",
    "    rating[i]=float(rating[i])"
   ]
  },
  {
   "cell_type": "code",
   "execution_count": 19,
   "id": "3495d558",
   "metadata": {},
   "outputs": [
    {
     "name": "stdout",
     "output_type": "stream",
     "text": [
      "[0.  1.  1.5 2.  2.5 3.  3.5 4.  4.5 5. ]\n"
     ]
    }
   ],
   "source": [
    "print(np.unique(rating))"
   ]
  },
  {
   "cell_type": "code",
   "execution_count": 20,
   "id": "bd63b521",
   "metadata": {},
   "outputs": [],
   "source": [
    "df['rating']=rating"
   ]
  },
  {
   "cell_type": "code",
   "execution_count": 21,
   "id": "30d22c45",
   "metadata": {},
   "outputs": [
    {
     "data": {
      "text/plain": [
       "(9999, 8)"
      ]
     },
     "execution_count": 21,
     "metadata": {},
     "output_type": "execute_result"
    }
   ],
   "source": [
    "df.shape"
   ]
  },
  {
   "cell_type": "code",
   "execution_count": 22,
   "id": "d031baac",
   "metadata": {},
   "outputs": [],
   "source": [
    "y=np.unique(rating)\n",
    "mylabels=[0,1,1.5,2,2.5,3,3.5,4,4.5,5]"
   ]
  },
  {
   "cell_type": "code",
   "execution_count": 74,
   "id": "3a419571",
   "metadata": {},
   "outputs": [
    {
     "data": {
      "image/png": "[encoded data removed]",
      "text/plain": [
       "<Figure size 432x288 with 1 Axes>"
      ]
     },
     "metadata": {},
     "output_type": "display_data"
    }
   ],
   "source": [
    "plt.pie(y,labels=mylabels,autopct='%1.1f%%',explode=(0.1,0.1,0.1,0.1,0.1,0.1,0.1,0.1,0.1,0.1),shadow = True)\n",
    "plt.legend(title=\"Ratings\",bbox_to_anchor=(2,1),loc='right')\n",
    "plt.title(\"Percentage of restaurants based on ratings\")\n",
    "plt.show()"
   ]
  },
  {
   "cell_type": "code",
   "execution_count": 24,
   "id": "94b50522",
   "metadata": {},
   "outputs": [
    {
     "data": {
      "text/plain": [
       "9954"
      ]
     },
     "execution_count": 24,
     "metadata": {},
     "output_type": "execute_result"
    }
   ],
   "source": [
    "df['Review'].count()"
   ]
  },
  {
   "cell_type": "code",
   "execution_count": 25,
   "id": "82299841",
   "metadata": {},
   "outputs": [
    {
     "data": {
      "text/plain": [
       "(-0.005, 1.667]    1782\n",
       "(1.667, 3.333]     1896\n",
       "(3.333, 5.0]       6321\n",
       "Name: rating, dtype: int64"
      ]
     },
     "execution_count": 25,
     "metadata": {},
     "output_type": "execute_result"
    }
   ],
   "source": [
    "pd.cut(df['rating'],bins=3).value_counts(sort=False)"
   ]
  },
  {
   "cell_type": "code",
   "execution_count": 26,
   "id": "4b1b826c",
   "metadata": {},
   "outputs": [
    {
     "name": "stdout",
     "output_type": "stream",
     "text": [
      "        Restaurant              Reviewer  \\\n",
      "0  Beyond Flavours     Rusha Chakraborty   \n",
      "1  Beyond Flavours  Anusha Tirumalaneedi   \n",
      "2  Beyond Flavours       Ashok Shekhawat   \n",
      "\n",
      "                                              Review Rating  \\\n",
      "0  The ambience was good, food was quite good . h...      5   \n",
      "1  Ambience is too good for a pleasant evening. S...      5   \n",
      "2  A must try.. great food great ambience. Thnx f...      5   \n",
      "\n",
      "                  Metadata             Time  Pictures  rating rating_group  \n",
      "0   1 Review , 2 Followers  5/25/2019 15:54         0     5.0        great  \n",
      "1  3 Reviews , 2 Followers  5/25/2019 14:20         0     5.0        great  \n",
      "2  2 Reviews , 3 Followers  5/24/2019 22:54         0     5.0        great  \n"
     ]
    }
   ],
   "source": [
    "labels=['below average','average','great']\n",
    "df['rating_group']=pd.cut(df['rating'],bins=3,labels=labels)\n",
    "print(df.head(3))"
   ]
  },
  {
   "cell_type": "code",
   "execution_count": 27,
   "id": "31e99662",
   "metadata": {},
   "outputs": [],
   "source": [
    "df1=df.drop(['Rating','rating'],axis=1)"
   ]
  },
  {
   "cell_type": "code",
   "execution_count": 28,
   "id": "4d354704",
   "metadata": {},
   "outputs": [],
   "source": [
    "df1.drop(['Restaurant','Reviewer','Metadata','Time','Pictures'],axis=1,inplace=True)"
   ]
  },
  {
   "cell_type": "code",
   "execution_count": 29,
   "id": "217aee79",
   "metadata": {},
   "outputs": [
    {
     "data": {
      "text/html": [
       "<div>\n",
       "<style scoped>\n",
       "    .dataframe tbody tr th:only-of-type {\n",
       "        vertical-align: middle;\n",
       "    }\n",
       "\n",
       "    .dataframe tbody tr th {\n",
       "        vertical-align: top;\n",
       "    }\n",
       "\n",
       "    .dataframe thead th {\n",
       "        text-align: right;\n",
       "    }\n",
       "</style>\n",
       "<table border=\"1\" class=\"dataframe\">\n",
       "  <thead>\n",
       "    <tr style=\"text-align: right;\">\n",
       "      <th></th>\n",
       "      <th>Review</th>\n",
       "      <th>rating_group</th>\n",
       "    </tr>\n",
       "  </thead>\n",
       "  <tbody>\n",
       "    <tr>\n",
       "      <th>0</th>\n",
       "      <td>The ambience was good, food was quite good . h...</td>\n",
       "      <td>great</td>\n",
       "    </tr>\n",
       "    <tr>\n",
       "      <th>1</th>\n",
       "      <td>Ambience is too good for a pleasant evening. S...</td>\n",
       "      <td>great</td>\n",
       "    </tr>\n",
       "    <tr>\n",
       "      <th>2</th>\n",
       "      <td>A must try.. great food great ambience. Thnx f...</td>\n",
       "      <td>great</td>\n",
       "    </tr>\n",
       "    <tr>\n",
       "      <th>3</th>\n",
       "      <td>Soumen das and Arun was a great guy. Only beca...</td>\n",
       "      <td>great</td>\n",
       "    </tr>\n",
       "    <tr>\n",
       "      <th>4</th>\n",
       "      <td>Food is good.we ordered Kodi drumsticks and ba...</td>\n",
       "      <td>great</td>\n",
       "    </tr>\n",
       "    <tr>\n",
       "      <th>...</th>\n",
       "      <td>...</td>\n",
       "      <td>...</td>\n",
       "    </tr>\n",
       "    <tr>\n",
       "      <th>9995</th>\n",
       "      <td>Madhumathi Mahajan Well to start with nice cou...</td>\n",
       "      <td>average</td>\n",
       "    </tr>\n",
       "    <tr>\n",
       "      <th>9996</th>\n",
       "      <td>This place has never disappointed us.. The foo...</td>\n",
       "      <td>great</td>\n",
       "    </tr>\n",
       "    <tr>\n",
       "      <th>9997</th>\n",
       "      <td>Bad rating is mainly because of \"Chicken Bone ...</td>\n",
       "      <td>below average</td>\n",
       "    </tr>\n",
       "    <tr>\n",
       "      <th>9998</th>\n",
       "      <td>I personally love and prefer Chinese Food. Had...</td>\n",
       "      <td>great</td>\n",
       "    </tr>\n",
       "    <tr>\n",
       "      <th>9999</th>\n",
       "      <td>Checked in here to try some delicious chinese ...</td>\n",
       "      <td>great</td>\n",
       "    </tr>\n",
       "  </tbody>\n",
       "</table>\n",
       "<p>9954 rows × 2 columns</p>\n",
       "</div>"
      ],
      "text/plain": [
       "                                                 Review   rating_group\n",
       "0     The ambience was good, food was quite good . h...          great\n",
       "1     Ambience is too good for a pleasant evening. S...          great\n",
       "2     A must try.. great food great ambience. Thnx f...          great\n",
       "3     Soumen das and Arun was a great guy. Only beca...          great\n",
       "4     Food is good.we ordered Kodi drumsticks and ba...          great\n",
       "...                                                 ...            ...\n",
       "9995  Madhumathi Mahajan Well to start with nice cou...        average\n",
       "9996  This place has never disappointed us.. The foo...          great\n",
       "9997  Bad rating is mainly because of \"Chicken Bone ...  below average\n",
       "9998  I personally love and prefer Chinese Food. Had...          great\n",
       "9999  Checked in here to try some delicious chinese ...          great\n",
       "\n",
       "[9954 rows x 2 columns]"
      ]
     },
     "execution_count": 29,
     "metadata": {},
     "output_type": "execute_result"
    }
   ],
   "source": [
    "df1.dropna()"
   ]
  },
  {
   "cell_type": "code",
   "execution_count": 30,
   "id": "91dc696c",
   "metadata": {},
   "outputs": [],
   "source": [
    "df1['Review']=df1['Review'].str.lower()"
   ]
  },
  {
   "cell_type": "code",
   "execution_count": 31,
   "id": "f8f82438",
   "metadata": {},
   "outputs": [
    {
     "name": "stdout",
     "output_type": "stream",
     "text": [
      "                                              Review rating_group\n",
      "0  the ambience was good, food was quite good . h...        great\n",
      "1  ambience is too good for a pleasant evening. s...        great\n",
      "2  a must try.. great food great ambience. thnx f...        great\n",
      "3  soumen das and arun was a great guy. only beca...        great\n",
      "4  food is good.we ordered kodi drumsticks and ba...        great\n"
     ]
    }
   ],
   "source": [
    "print(df1.head(5))"
   ]
  },
  {
   "cell_type": "code",
   "execution_count": 32,
   "id": "66e5814f",
   "metadata": {},
   "outputs": [],
   "source": [
    "df2=df1.dropna()"
   ]
  },
  {
   "cell_type": "code",
   "execution_count": 33,
   "id": "3702842b",
   "metadata": {},
   "outputs": [
    {
     "data": {
      "text/plain": [
       "(9954, 2)"
      ]
     },
     "execution_count": 33,
     "metadata": {},
     "output_type": "execute_result"
    }
   ],
   "source": [
    "df2.shape"
   ]
  },
  {
   "cell_type": "code",
   "execution_count": 34,
   "id": "0ffa33e4",
   "metadata": {},
   "outputs": [
    {
     "name": "stdout",
     "output_type": "stream",
     "text": [
      "<class 'pandas.core.frame.DataFrame'>\n",
      "Int64Index: 9954 entries, 0 to 9999\n",
      "Data columns (total 2 columns):\n",
      " #   Column        Non-Null Count  Dtype   \n",
      "---  ------        --------------  -----   \n",
      " 0   Review        9954 non-null   object  \n",
      " 1   rating_group  9954 non-null   category\n",
      "dtypes: category(1), object(1)\n",
      "memory usage: 165.4+ KB\n"
     ]
    }
   ],
   "source": [
    "df2.info()"
   ]
  },
  {
   "cell_type": "code",
   "execution_count": 35,
   "id": "2865b3e4",
   "metadata": {},
   "outputs": [
    {
     "name": "stderr",
     "output_type": "stream",
     "text": [
      "<ipython-input-35-da263a07bc1e>:1: SettingWithCopyWarning: \n",
      "A value is trying to be set on a copy of a slice from a DataFrame.\n",
      "Try using .loc[row_indexer,col_indexer] = value instead\n",
      "\n",
      "See the caveats in the documentation: https://pandas.pydata.org/pandas-docs/stable/user_guide/indexing.html#returning-a-view-versus-a-copy\n",
      "  df2['Review']=df2.fillna({'Review':''})\n"
     ]
    }
   ],
   "source": [
    "df2['Review']=df2.fillna({'Review':''})"
   ]
  },
  {
   "cell_type": "code",
   "execution_count": 55,
   "id": "723ee839",
   "metadata": {},
   "outputs": [],
   "source": [
    "import re \n",
    "import string\n",
    "def text_clean(text):\n",
    "    text=re.sub('\\[.*?\\]','',text)\n",
    "    text=re.sub('[%s]'% re.escape(string.punctuation),'',text)\n",
    "    text=re.sub('\\w*\\d\\w*','',text)\n",
    "    text=re.sub('[''**...]','',text)\n",
    "    text=re.sub('\\n','',text)\n",
    "    return text\n",
    "cleaned=lambda x: text_clean(x)\n",
    "    "
   ]
  },
  {
   "cell_type": "code",
   "execution_count": 56,
   "id": "2ce5a337",
   "metadata": {},
   "outputs": [
    {
     "name": "stderr",
     "output_type": "stream",
     "text": [
      "<ipython-input-56-3395d555f30c>:1: SettingWithCopyWarning: \n",
      "A value is trying to be set on a copy of a slice from a DataFrame.\n",
      "Try using .loc[row_indexer,col_indexer] = value instead\n",
      "\n",
      "See the caveats in the documentation: https://pandas.pydata.org/pandas-docs/stable/user_guide/indexing.html#returning-a-view-versus-a-copy\n",
      "  df2['Review']=pd.DataFrame(df2['Review'].apply(cleaned))\n"
     ]
    },
    {
     "data": {
      "text/html": [
       "<div>\n",
       "<style scoped>\n",
       "    .dataframe tbody tr th:only-of-type {\n",
       "        vertical-align: middle;\n",
       "    }\n",
       "\n",
       "    .dataframe tbody tr th {\n",
       "        vertical-align: top;\n",
       "    }\n",
       "\n",
       "    .dataframe thead th {\n",
       "        text-align: right;\n",
       "    }\n",
       "</style>\n",
       "<table border=\"1\" class=\"dataframe\">\n",
       "  <thead>\n",
       "    <tr style=\"text-align: right;\">\n",
       "      <th></th>\n",
       "      <th>Review</th>\n",
       "      <th>rating_group</th>\n",
       "    </tr>\n",
       "  </thead>\n",
       "  <tbody>\n",
       "    <tr>\n",
       "      <th>0</th>\n",
       "      <td>the ambience was good food was quite good  had...</td>\n",
       "      <td>great</td>\n",
       "    </tr>\n",
       "    <tr>\n",
       "      <th>1</th>\n",
       "      <td>ambience is too good for a pleasant evening se...</td>\n",
       "      <td>great</td>\n",
       "    </tr>\n",
       "    <tr>\n",
       "      <th>2</th>\n",
       "      <td>a must try great food great ambience thnx for ...</td>\n",
       "      <td>great</td>\n",
       "    </tr>\n",
       "    <tr>\n",
       "      <th>3</th>\n",
       "      <td>soumen das and arun was a great guy only becau...</td>\n",
       "      <td>great</td>\n",
       "    </tr>\n",
       "    <tr>\n",
       "      <th>4</th>\n",
       "      <td>food is goodwe ordered kodi drumsticks and bas...</td>\n",
       "      <td>great</td>\n",
       "    </tr>\n",
       "  </tbody>\n",
       "</table>\n",
       "</div>"
      ],
      "text/plain": [
       "                                              Review rating_group\n",
       "0  the ambience was good food was quite good  had...        great\n",
       "1  ambience is too good for a pleasant evening se...        great\n",
       "2  a must try great food great ambience thnx for ...        great\n",
       "3  soumen das and arun was a great guy only becau...        great\n",
       "4  food is goodwe ordered kodi drumsticks and bas...        great"
      ]
     },
     "execution_count": 56,
     "metadata": {},
     "output_type": "execute_result"
    }
   ],
   "source": [
    "df2['Review']=pd.DataFrame(df2['Review'].apply(cleaned))\n",
    "df2.head(5)"
   ]
  },
  {
   "cell_type": "code",
   "execution_count": 57,
   "id": "b21b7a46",
   "metadata": {},
   "outputs": [
    {
     "name": "stdout",
     "output_type": "stream",
     "text": [
      "7465 2489 7465 2489\n"
     ]
    }
   ],
   "source": [
    "from sklearn.model_selection import train_test_split\n",
    "X=df2['Review']\n",
    "Y=df2['rating_group']\n",
    "X_train,X_test,Y_train,Y_test=train_test_split(X,Y,test_size=0.25)\n",
    "print(len(X_train),len(X_test),len(Y_train),len(Y_test))"
   ]
  },
  {
   "cell_type": "code",
   "execution_count": 58,
   "id": "896c2ac6",
   "metadata": {},
   "outputs": [],
   "source": [
    "from sklearn.feature_extraction.text import TfidfVectorizer\n",
    "from sklearn.linear_model import LogisticRegression\n",
    "tvec=TfidfVectorizer()\n",
    "clf2=LogisticRegression(solver='lbfgs')"
   ]
  },
  {
   "cell_type": "code",
   "execution_count": 59,
   "id": "fe4cbd28",
   "metadata": {},
   "outputs": [
    {
     "data": {
      "text/plain": [
       "Pipeline(steps=[('vectorize', TfidfVectorizer()),\n",
       "                ('classifier', LogisticRegression())])"
      ]
     },
     "execution_count": 59,
     "metadata": {},
     "output_type": "execute_result"
    }
   ],
   "source": [
    "from sklearn.pipeline import Pipeline\n",
    "model=Pipeline([('vectorize',tvec),('classifier',clf2)])\n",
    "model.fit(X_train,Y_train)"
   ]
  },
  {
   "cell_type": "code",
   "execution_count": 61,
   "id": "ed232290",
   "metadata": {},
   "outputs": [
    {
     "data": {
      "text/plain": [
       "array([[ 198,   65,   52],\n",
       "       [  77,  326,   13],\n",
       "       [ 198,   48, 1512]], dtype=int64)"
      ]
     },
     "execution_count": 61,
     "metadata": {},
     "output_type": "execute_result"
    }
   ],
   "source": [
    "from sklearn.metrics import confusion_matrix\n",
    "predictions=model.predict(X_test)\n",
    "confusion_matrix(predictions,Y_test)"
   ]
  },
  {
   "cell_type": "code",
   "execution_count": 63,
   "id": "6abaa7df",
   "metadata": {},
   "outputs": [
    {
     "name": "stdout",
     "output_type": "stream",
     "text": [
      "accuracy =  0.8179991964644435\n",
      "Precision =  0.8542870111200729\n",
      "Recall =  0.8179991964644435\n"
     ]
    }
   ],
   "source": [
    "from sklearn.metrics import accuracy_score,precision_score,recall_score\n",
    "print(\"accuracy = \",accuracy_score(predictions,Y_test))\n",
    "print(\"Precision = \",precision_score(predictions,Y_test,average='weighted'))\n",
    "print(\"Recall = \",recall_score(predictions,Y_test,average='weighted'))"
   ]
  },
  {
   "cell_type": "code",
   "execution_count": 76,
   "id": "a9a396b7",
   "metadata": {},
   "outputs": [
    {
     "name": "stdout",
     "output_type": "stream",
     "text": [
      "['great']\n"
     ]
    }
   ],
   "source": [
    "ex=['i am happy']\n",
    "result=model.predict(ex)\n",
    "print(result)"
   ]
  }
 ],
 "metadata": {
  "kernelspec": {
   "display_name": "Python 3",
   "language": "python",
   "name": "python3"
  },
  "language_info": {
   "codemirror_mode": {
    "name": "ipython",
    "version": 3
   },
   "file_extension": ".py",
   "mimetype": "text/x-python",
   "name": "python",
   "nbconvert_exporter": "python",
   "pygments_lexer": "ipython3",
   "version": "3.8.8"
  }
 },
 "nbformat": 4,
 "nbformat_minor": 5
}
